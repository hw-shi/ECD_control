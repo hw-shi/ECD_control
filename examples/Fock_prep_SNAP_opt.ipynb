{
 "cells": [
  {
   "cell_type": "code",
   "execution_count": 1,
   "metadata": {
    "tags": []
   },
   "outputs": [
    {
     "name": "stderr",
     "output_type": "stream",
     "text": [
      "2022-02-16 16:56:24.810337: W tensorflow/stream_executor/platform/default/dso_loader.cc:64] Could not load dynamic library 'libcudart.so.11.0'; dlerror: libcudart.so.11.0: cannot open shared object file: No such file or directory\n",
      "2022-02-16 16:56:24.810350: I tensorflow/stream_executor/cuda/cudart_stub.cc:29] Ignore above cudart dlerror if you do not have a GPU set up on your machine.\n"
     ]
    },
    {
     "name": "stdout",
     "output_type": "stream",
     "text": [
      "\n",
      "Need tf version 2.3.0 or later. Using tensorflow version: 2.8.0\n",
      "\n",
      "\n",
      "Need tf version 2.3.0 or later. Using tensorflow version: 2.8.0\n",
      "\n"
     ]
    }
   ],
   "source": [
    "%load_ext autoreload\n",
    "%autoreload 2\n",
    "%matplotlib inline\n",
    "%config InlineBackend.figure_format = 'retina'\n",
    "\n",
    "import numpy as np\n",
    "import qutip as qt \n",
    "from ECD_control.ECD_optimization.tf_adam_optimizer import AdamOptimizer\n",
    "from ECD_control.gate_sets.SNAP_disp import SNAP_disp\n",
    "from ECD_control.ECD_optimization.GateSynthesizer import GateSynthesizer\n",
    "from ECD_control.ECD_optimization.optimization_analysis import OptimizationAnalysis, OptimizationSweepsAnalysis\n",
    "import matplotlib.pyplot as plt\n",
    "from tensorflow.python.client import device_lib\n",
    "# device_lib.list_local_devices()"
   ]
  },
  {
   "cell_type": "code",
   "execution_count": 2,
   "metadata": {},
   "outputs": [
    {
     "name": "stderr",
     "output_type": "stream",
     "text": [
      "2022-02-16 16:56:25.676449: W tensorflow/stream_executor/platform/default/dso_loader.cc:64] Could not load dynamic library 'libcuda.so.1'; dlerror: libcuda.so.1: cannot open shared object file: No such file or directory\n",
      "2022-02-16 16:56:25.676465: W tensorflow/stream_executor/cuda/cuda_driver.cc:269] failed call to cuInit: UNKNOWN ERROR (303)\n",
      "2022-02-16 16:56:25.676476: I tensorflow/stream_executor/cuda/cuda_diagnostics.cc:156] kernel driver does not appear to be running on this host (sauron): /proc/driver/nvidia/version does not exist\n",
      "2022-02-16 16:56:25.676629: I tensorflow/core/platform/cpu_feature_guard.cc:151] This TensorFlow binary is optimized with oneAPI Deep Neural Network Library (oneDNN) to use the following CPU instructions in performance-critical operations:  AVX2 AVX512F FMA\n",
      "To enable them in other operations, rebuild TensorFlow with the appropriate compiler flags.\n"
     ]
    }
   ],
   "source": [
    "#Optimization of ECD Circuit parameters (betas, phis, and thetas)\n",
    "N = 20\n",
    "# We initialize the ECDGateSet here\n",
    "gate_set_params = {\n",
    "    'N_cav' : N,\n",
    "    'beta_scale' : 3.0\n",
    "}\n",
    "SNAP_gate_set = SNAP_disp(**gate_set_params)"
   ]
  },
  {
   "cell_type": "code",
   "execution_count": 3,
   "metadata": {},
   "outputs": [],
   "source": [
    "#The target oscillator state.\n",
    "fock = 1\n",
    "psi_t = qt.basis(N,fock) #target state"
   ]
  },
  {
   "cell_type": "code",
   "execution_count": 4,
   "metadata": {},
   "outputs": [],
   "source": [
    "#the optimization options\n",
    "synth_params = {\n",
    "    'gateset' : SNAP_gate_set,\n",
    "    'N_blocks':6,\n",
    "    'N_multistart' : 100, #Batch size (number of circuit optimizations to run in parallel)\n",
    "    'epochs' : 100, #number of epochs before termination\n",
    "    'epoch_size' : 10, #number of adam steps per epoch\n",
    "    'learning_rate' : 0.01, #adam learning rate\n",
    "    'term_fid' : 0.995, #terminal fidelitiy\n",
    "    'dfid_stop' : 1e-6, #stop if dfid between two epochs is smaller than this number\n",
    "    'beta_scale' : 3.0, #maximum |beta| for random initialization\n",
    "    'initial_states' : [qt.tensor(qt.basis(2,0),qt.basis(N,0))], #qubit tensor oscillator, start in |g> |0>\n",
    "    'target_states' : [qt.tensor(qt.basis(2,1), psi_t)], #end in |e> |target>.\n",
    "    'name' : 'Fock %d' % fock, #name for printing and saving\n",
    "    'filename' : None, #if no filename specified, results will be saved in this folder under 'name.h5'\n",
    "}\n",
    "gatesynth = GateSynthesizer(**synth_params)"
   ]
  },
  {
   "cell_type": "code",
   "execution_count": 5,
   "metadata": {},
   "outputs": [
    {
     "ename": "ValueError",
     "evalue": "in user code:\n\n    File \"/home/rsl/ECD_control/ECD_control/ECD_optimization/GateSynthesizer.py\", line 174, in batch_state_transfer_fidelities_real_part  *\n        bs = self.gateset.batch_construct_block_operators(opt_params)\n    File \"/home/rsl/ECD_control/ECD_control/gate_sets/SNAP_disp.py\", line 64, in batch_construct_block_operators  *\n        blocks = Ds @ SNAPs\n\n    ValueError: Dimensions must be equal, but are 20 and 100 for '{{node matmul}} = BatchMatMulV2[T=DT_COMPLEX64, adj_x=false, adj_y=false](PartitionedCall, StatefulPartitionedCall)' with input shapes: [6,100,20,20], [6,100,100].\n",
     "output_type": "error",
     "traceback": [
      "\u001b[0;31m---------------------------------------------------------------------------\u001b[0m",
      "\u001b[0;31mValueError\u001b[0m                                Traceback (most recent call last)",
      "\u001b[0;32m/tmp/ipykernel_106038/2030240981.py\u001b[0m in \u001b[0;36m<module>\u001b[0;34m\u001b[0m\n\u001b[1;32m      4\u001b[0m \u001b[0;34m\u001b[0m\u001b[0m\n\u001b[1;32m      5\u001b[0m \u001b[0;31m#print optimization info. this lives in gatesynth, since we eventually want to fully abstract away the optimizer\u001b[0m\u001b[0;34m\u001b[0m\u001b[0;34m\u001b[0m\u001b[0;34m\u001b[0m\u001b[0m\n\u001b[0;32m----> 6\u001b[0;31m \u001b[0mgatesynth\u001b[0m\u001b[0;34m.\u001b[0m\u001b[0mprint_info\u001b[0m\u001b[0;34m(\u001b[0m\u001b[0;34m)\u001b[0m\u001b[0;34m\u001b[0m\u001b[0;34m\u001b[0m\u001b[0m\n\u001b[0m",
      "\u001b[0;32m~/ECD_control/ECD_control/ECD_optimization/GateSynthesizer.py\u001b[0m in \u001b[0;36mprint_info\u001b[0;34m(self)\u001b[0m\n\u001b[1;32m    263\u001b[0m \u001b[0;34m\u001b[0m\u001b[0m\n\u001b[1;32m    264\u001b[0m     \u001b[0;32mdef\u001b[0m \u001b[0mprint_info\u001b[0m\u001b[0;34m(\u001b[0m\u001b[0mself\u001b[0m\u001b[0;34m)\u001b[0m\u001b[0;34m:\u001b[0m\u001b[0;34m\u001b[0m\u001b[0;34m\u001b[0m\u001b[0m\n\u001b[0;32m--> 265\u001b[0;31m         \u001b[0mbest_circuit\u001b[0m \u001b[0;34m=\u001b[0m \u001b[0mself\u001b[0m\u001b[0;34m.\u001b[0m\u001b[0mbest_circuit\u001b[0m\u001b[0;34m(\u001b[0m\u001b[0;34m)\u001b[0m\u001b[0;34m\u001b[0m\u001b[0;34m\u001b[0m\u001b[0m\n\u001b[0m\u001b[1;32m    266\u001b[0m         \u001b[0;32mwith\u001b[0m \u001b[0mnp\u001b[0m\u001b[0;34m.\u001b[0m\u001b[0mprintoptions\u001b[0m\u001b[0;34m(\u001b[0m\u001b[0mprecision\u001b[0m\u001b[0;34m=\u001b[0m\u001b[0;36m5\u001b[0m\u001b[0;34m,\u001b[0m \u001b[0msuppress\u001b[0m\u001b[0;34m=\u001b[0m\u001b[0;32mTrue\u001b[0m\u001b[0;34m)\u001b[0m\u001b[0;34m:\u001b[0m\u001b[0;34m\u001b[0m\u001b[0;34m\u001b[0m\u001b[0m\n\u001b[1;32m    267\u001b[0m             \u001b[0;32mfor\u001b[0m \u001b[0mparameter\u001b[0m\u001b[0;34m,\u001b[0m \u001b[0mvalue\u001b[0m \u001b[0;32min\u001b[0m \u001b[0mself\u001b[0m\u001b[0;34m.\u001b[0m\u001b[0mparameters\u001b[0m\u001b[0;34m.\u001b[0m\u001b[0mitems\u001b[0m\u001b[0;34m(\u001b[0m\u001b[0;34m)\u001b[0m\u001b[0;34m:\u001b[0m\u001b[0;34m\u001b[0m\u001b[0;34m\u001b[0m\u001b[0m\n",
      "\u001b[0;32m~/ECD_control/ECD_control/ECD_optimization/GateSynthesizer.py\u001b[0m in \u001b[0;36mbest_circuit\u001b[0;34m(self)\u001b[0m\n\u001b[1;32m    242\u001b[0m \u001b[0;34m\u001b[0m\u001b[0m\n\u001b[1;32m    243\u001b[0m     \u001b[0;32mdef\u001b[0m \u001b[0mbest_circuit\u001b[0m\u001b[0;34m(\u001b[0m\u001b[0mself\u001b[0m\u001b[0;34m)\u001b[0m\u001b[0;34m:\u001b[0m\u001b[0;34m\u001b[0m\u001b[0;34m\u001b[0m\u001b[0m\n\u001b[0;32m--> 244\u001b[0;31m         \u001b[0mfids\u001b[0m \u001b[0;34m=\u001b[0m \u001b[0mself\u001b[0m\u001b[0;34m.\u001b[0m\u001b[0mbatch_fidelities\u001b[0m\u001b[0;34m(\u001b[0m\u001b[0mself\u001b[0m\u001b[0;34m.\u001b[0m\u001b[0mopt_vars\u001b[0m\u001b[0;34m)\u001b[0m\u001b[0;34m\u001b[0m\u001b[0;34m\u001b[0m\u001b[0m\n\u001b[0m\u001b[1;32m    245\u001b[0m         \u001b[0mfids\u001b[0m \u001b[0;34m=\u001b[0m \u001b[0mnp\u001b[0m\u001b[0;34m.\u001b[0m\u001b[0matleast_1d\u001b[0m\u001b[0;34m(\u001b[0m\u001b[0mfids\u001b[0m\u001b[0;34m.\u001b[0m\u001b[0mnumpy\u001b[0m\u001b[0;34m(\u001b[0m\u001b[0;34m)\u001b[0m\u001b[0;34m)\u001b[0m\u001b[0;34m\u001b[0m\u001b[0;34m\u001b[0m\u001b[0m\n\u001b[1;32m    246\u001b[0m         \u001b[0mmax_idx\u001b[0m \u001b[0;34m=\u001b[0m \u001b[0mnp\u001b[0m\u001b[0;34m.\u001b[0m\u001b[0margmax\u001b[0m\u001b[0;34m(\u001b[0m\u001b[0mfids\u001b[0m\u001b[0;34m)\u001b[0m\u001b[0;34m\u001b[0m\u001b[0;34m\u001b[0m\u001b[0m\n",
      "\u001b[0;32m~/miniconda3/envs/jupyterhub/lib/python3.7/site-packages/tensorflow/python/util/traceback_utils.py\u001b[0m in \u001b[0;36merror_handler\u001b[0;34m(*args, **kwargs)\u001b[0m\n\u001b[1;32m    151\u001b[0m     \u001b[0;32mexcept\u001b[0m \u001b[0mException\u001b[0m \u001b[0;32mas\u001b[0m \u001b[0me\u001b[0m\u001b[0;34m:\u001b[0m\u001b[0;34m\u001b[0m\u001b[0;34m\u001b[0m\u001b[0m\n\u001b[1;32m    152\u001b[0m       \u001b[0mfiltered_tb\u001b[0m \u001b[0;34m=\u001b[0m \u001b[0m_process_traceback_frames\u001b[0m\u001b[0;34m(\u001b[0m\u001b[0me\u001b[0m\u001b[0;34m.\u001b[0m\u001b[0m__traceback__\u001b[0m\u001b[0;34m)\u001b[0m\u001b[0;34m\u001b[0m\u001b[0;34m\u001b[0m\u001b[0m\n\u001b[0;32m--> 153\u001b[0;31m       \u001b[0;32mraise\u001b[0m \u001b[0me\u001b[0m\u001b[0;34m.\u001b[0m\u001b[0mwith_traceback\u001b[0m\u001b[0;34m(\u001b[0m\u001b[0mfiltered_tb\u001b[0m\u001b[0;34m)\u001b[0m \u001b[0;32mfrom\u001b[0m \u001b[0;32mNone\u001b[0m\u001b[0;34m\u001b[0m\u001b[0;34m\u001b[0m\u001b[0m\n\u001b[0m\u001b[1;32m    154\u001b[0m     \u001b[0;32mfinally\u001b[0m\u001b[0;34m:\u001b[0m\u001b[0;34m\u001b[0m\u001b[0;34m\u001b[0m\u001b[0m\n\u001b[1;32m    155\u001b[0m       \u001b[0;32mdel\u001b[0m \u001b[0mfiltered_tb\u001b[0m\u001b[0;34m\u001b[0m\u001b[0;34m\u001b[0m\u001b[0m\n",
      "\u001b[0;32m~/miniconda3/envs/jupyterhub/lib/python3.7/site-packages/tensorflow/python/framework/func_graph.py\u001b[0m in \u001b[0;36mautograph_handler\u001b[0;34m(*args, **kwargs)\u001b[0m\n\u001b[1;32m   1145\u001b[0m           \u001b[0;32mexcept\u001b[0m \u001b[0mException\u001b[0m \u001b[0;32mas\u001b[0m \u001b[0me\u001b[0m\u001b[0;34m:\u001b[0m  \u001b[0;31m# pylint:disable=broad-except\u001b[0m\u001b[0;34m\u001b[0m\u001b[0;34m\u001b[0m\u001b[0m\n\u001b[1;32m   1146\u001b[0m             \u001b[0;32mif\u001b[0m \u001b[0mhasattr\u001b[0m\u001b[0;34m(\u001b[0m\u001b[0me\u001b[0m\u001b[0;34m,\u001b[0m \u001b[0;34m\"ag_error_metadata\"\u001b[0m\u001b[0;34m)\u001b[0m\u001b[0;34m:\u001b[0m\u001b[0;34m\u001b[0m\u001b[0;34m\u001b[0m\u001b[0m\n\u001b[0;32m-> 1147\u001b[0;31m               \u001b[0;32mraise\u001b[0m \u001b[0me\u001b[0m\u001b[0;34m.\u001b[0m\u001b[0mag_error_metadata\u001b[0m\u001b[0;34m.\u001b[0m\u001b[0mto_exception\u001b[0m\u001b[0;34m(\u001b[0m\u001b[0me\u001b[0m\u001b[0;34m)\u001b[0m\u001b[0;34m\u001b[0m\u001b[0;34m\u001b[0m\u001b[0m\n\u001b[0m\u001b[1;32m   1148\u001b[0m             \u001b[0;32melse\u001b[0m\u001b[0;34m:\u001b[0m\u001b[0;34m\u001b[0m\u001b[0;34m\u001b[0m\u001b[0m\n\u001b[1;32m   1149\u001b[0m               \u001b[0;32mraise\u001b[0m\u001b[0;34m\u001b[0m\u001b[0;34m\u001b[0m\u001b[0m\n",
      "\u001b[0;31mValueError\u001b[0m: in user code:\n\n    File \"/home/rsl/ECD_control/ECD_control/ECD_optimization/GateSynthesizer.py\", line 174, in batch_state_transfer_fidelities_real_part  *\n        bs = self.gateset.batch_construct_block_operators(opt_params)\n    File \"/home/rsl/ECD_control/ECD_control/gate_sets/SNAP_disp.py\", line 64, in batch_construct_block_operators  *\n        blocks = Ds @ SNAPs\n\n    ValueError: Dimensions must be equal, but are 20 and 100 for '{{node matmul}} = BatchMatMulV2[T=DT_COMPLEX64, adj_x=false, adj_y=false](PartitionedCall, StatefulPartitionedCall)' with input shapes: [6,100,20,20], [6,100,100].\n"
     ]
    }
   ],
   "source": [
    "#create optimization object. \n",
    "#initial params will be randomized upon creation\n",
    "opt = AdamOptimizer(gatesynth)\n",
    "\n",
    "#print optimization info. this lives in gatesynth, since we eventually want to fully abstract away the optimizer\n",
    "gatesynth.print_info()"
   ]
  },
  {
   "cell_type": "code",
   "execution_count": 6,
   "metadata": {},
   "outputs": [
    {
     "name": "stdout",
     "output_type": "stream",
     "text": [
      "Start time: 2022-02-16 15:16:38\n",
      " Epoch: 8 / 100 Max Fid: 0.998438 Avg Fid: 0.778060 Max dFid: 0.118635 Avg dFid: 0.054608 Elapsed time: 0:00:12.966818 Remaing time: 0:02:29.118411\n",
      "\n",
      " Optimization stopped. Term fidelity reached.\n",
      "\n",
      "filename: Fock 1.h5\n",
      "\n",
      "Best circuit parameters found:\n",
      "betastf.Tensor(\n",
      "[ 1.13286-0.70326j  0.99961+0.20127j  0.96816-0.80636j -0.58972-0.57687j\n",
      " -0.04752+0.83982j  0.05504-0.04376j], shape=(6,), dtype=complex64)\n",
      "phistf.Tensor([-0.6859   0.15728 -0.29933  0.05631 -2.32845 -1.64227], shape=(6,), dtype=float32)\n",
      "etastf.Tensor([ 2.13243  2.27639  0.18835  1.06176 -1.46157 -1.68345], shape=(6,), dtype=float32)\n",
      "thetastf.Tensor([ 2.03892 -2.89281  2.66991  3.09822  2.86506  1.59467], shape=(6,), dtype=float32)\n",
      "\n",
      "\n",
      "all data saved as: Fock 1.h5\n",
      "termination reason: term_fid\n",
      "optimization timestamp (start time): 2022-02-16 15:16:38\n",
      "timestamp (end time): 2022-02-16 15:16:51\n",
      "elapsed time: 0:00:12.970937\n",
      "Time per epoch (epoch size = 10): 0:00:01.621367\n",
      "Time per Adam step (N_multistart = 100): 0:00:00.016214\n",
      "\n",
      "============================================================\n",
      "\n"
     ]
    },
    {
     "data": {
      "text/plain": [
       "'2022-02-16 15:16:38'"
      ]
     },
     "execution_count": 6,
     "metadata": {},
     "output_type": "execute_result"
    }
   ],
   "source": [
    "#run optimizer.\n",
    "#note the optimizer can be stopped at any time by interrupting the python consle,\n",
    "#and the optimization results will still be saved and part of the opt object.\n",
    "#This allows you to stop the optimization whenever you want and still use the result.\n",
    "opt.optimize()"
   ]
  },
  {
   "cell_type": "code",
   "execution_count": 7,
   "metadata": {},
   "outputs": [
    {
     "name": "stdout",
     "output_type": "stream",
     "text": [
      "filename: Fock 1.h5\n",
      "\n",
      "Best circuit parameters found:\n",
      "betastf.Tensor(\n",
      "[ 0.96794+0.48567j -0.75877+0.5005j   0.49979+0.66834j  0.50006-0.01919j\n",
      "  0.03466+0.0955j  -0.10866-0.02954j], shape=(6,), dtype=complex64)\n",
      "phistf.Tensor([ 1.80369  2.24556 -1.11736 -0.21043  1.80533 -2.30418], shape=(6,), dtype=float32)\n",
      "etastf.Tensor([-2.36898  0.7659   2.0391   2.0377   0.00534 -0.96416], shape=(6,), dtype=float32)\n",
      "thetastf.Tensor([-2.86792 -2.40265 -2.69464  1.99207 -0.44992  1.91098], shape=(6,), dtype=float32)\n",
      "\n",
      "\n"
     ]
    }
   ],
   "source": [
    "#can print info, including the best circuit found.\n",
    "gatesynth.print_info() "
   ]
  },
  {
   "cell_type": "code",
   "execution_count": 34,
   "metadata": {},
   "outputs": [
    {
     "name": "stdout",
     "output_type": "stream",
     "text": [
      "0.99766856\n"
     ]
    }
   ],
   "source": [
    "print(gatesynth.best_fidelity())"
   ]
  },
  {
   "cell_type": "code",
   "execution_count": 35,
   "metadata": {},
   "outputs": [
    {
     "name": "stdout",
     "output_type": "stream",
     "text": [
      "{'betas': <tf.Tensor: shape=(6,), dtype=complex64, numpy=\n",
      "array([-1.1746151 -0.8693623j , -0.49395102+0.5756166j ,\n",
      "       -0.79899365+0.05219852j,  0.16476296+0.29228175j,\n",
      "       -0.1956888 -0.38825154j,  0.03830615-0.18385214j], dtype=complex64)>, 'phis': <tf.Tensor: shape=(6,), dtype=float32, numpy=\n",
      "array([-2.4586654,  1.3162277,  3.1164181,  1.0341647,  1.1115539,\n",
      "       -2.9524856], dtype=float32)>, 'etas': <tf.Tensor: shape=(6,), dtype=float32, numpy=\n",
      "array([ 1.4823964,  2.5061128,  2.1089766,  1.0687244,  2.3668997,\n",
      "       -2.2753816], dtype=float32)>, 'thetas': <tf.Tensor: shape=(6,), dtype=float32, numpy=\n",
      "array([-1.5192764 ,  1.4105847 , -2.4111152 , -1.9639561 ,  2.6869357 ,\n",
      "       -0.73564196], dtype=float32)>}\n"
     ]
    }
   ],
   "source": [
    "#can also get the best circuit parameters directly, could save this to a .npz file.\n",
    "best_circuit =  gatesynth.best_circuit()\n",
    "betas = best_circuit['betas']\n",
    "phis = best_circuit['phis']\n",
    "thetas = best_circuit['thetas']\n",
    "print(best_circuit)"
   ]
  }
 ],
 "metadata": {
  "interpreter": {
   "hash": "3e13ed3432761fc59a4a9b457fbf3f96074750791754ae943b7a2ec348e7309f"
  },
  "kernelspec": {
   "display_name": "Python 3 (ipykernel)",
   "language": "python",
   "name": "python3"
  },
  "language_info": {
   "codemirror_mode": {
    "name": "ipython",
    "version": 3
   },
   "file_extension": ".py",
   "mimetype": "text/x-python",
   "name": "python",
   "nbconvert_exporter": "python",
   "pygments_lexer": "ipython3",
   "version": "3.7.11"
  }
 },
 "nbformat": 4,
 "nbformat_minor": 4
}
