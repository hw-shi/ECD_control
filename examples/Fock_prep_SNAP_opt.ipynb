{
 "cells": [
  {
   "cell_type": "code",
   "execution_count": 1,
   "metadata": {
    "tags": []
   },
   "outputs": [
    {
     "name": "stdout",
     "output_type": "stream",
     "text": [
      "\n",
      "Need tf version 2.3.0 or later. Using tensorflow version: 2.8.0\n",
      "\n"
     ]
    },
    {
     "name": "stderr",
     "output_type": "stream",
     "text": [
      "c:\\users\\jacob\\ecd_control\\ECD_control\\ECD_optimization\\GateSynthesizer.py:268: SyntaxWarning: \"is\" with a literal. Did you mean \"==\"?\n",
      "  if parameter is \"initial_states\" or \"final_states\":\n"
     ]
    },
    {
     "name": "stdout",
     "output_type": "stream",
     "text": [
      "\n",
      "Need tf version 2.3.0 or later. Using tensorflow version: 2.8.0\n",
      "\n"
     ]
    },
    {
     "data": {
      "text/plain": [
       "[name: \"/device:CPU:0\"\n",
       " device_type: \"CPU\"\n",
       " memory_limit: 268435456\n",
       " locality {\n",
       " }\n",
       " incarnation: 11198794031164360851\n",
       " xla_global_id: -1,\n",
       " name: \"/device:GPU:0\"\n",
       " device_type: \"GPU\"\n",
       " memory_limit: 7806648320\n",
       " locality {\n",
       "   bus_id: 1\n",
       "   links {\n",
       "   }\n",
       " }\n",
       " incarnation: 11894110682621132772\n",
       " physical_device_desc: \"device: 0, name: NVIDIA GeForce RTX 3080, pci bus id: 0000:0a:00.0, compute capability: 8.6\"\n",
       " xla_global_id: 416903419]"
      ]
     },
     "execution_count": 1,
     "metadata": {},
     "output_type": "execute_result"
    }
   ],
   "source": [
    "%load_ext autoreload\n",
    "%autoreload 2\n",
    "%matplotlib inline\n",
    "%config InlineBackend.figure_format = 'retina'\n",
    "\n",
    "import numpy as np\n",
    "import qutip as qt \n",
    "from ECD_control.ECD_optimization.tf_adam_optimizer import AdamOptimizer\n",
    "from ECD_control.gate_sets.SNAP_disp import SNAP_disp\n",
    "from ECD_control.ECD_optimization.GateSynthesizer import GateSynthesizer\n",
    "from ECD_control.ECD_optimization.optimization_analysis import OptimizationAnalysis, OptimizationSweepsAnalysis\n",
    "import matplotlib.pyplot as plt\n",
    "from tensorflow.python.client import device_lib\n",
    "device_lib.list_local_devices()"
   ]
  },
  {
   "cell_type": "code",
   "execution_count": 2,
   "metadata": {},
   "outputs": [],
   "source": [
    "#Optimization of ECD Circuit parameters (betas, phis, and thetas)\n",
    "N = 40\n",
    "# We initialize the ECDGateSet here\n",
    "gate_set_params = {\n",
    "    'N_cav' : N,\n",
    "    'N_snap' : 10,\n",
    "    'beta_scale' : 3.0\n",
    "}\n",
    "SNAP_gate_set = SNAP_disp(**gate_set_params)"
   ]
  },
  {
   "cell_type": "code",
   "execution_count": 3,
   "metadata": {},
   "outputs": [],
   "source": [
    "#The target oscillator state.\n",
    "fock = 4\n",
    "psi_t = qt.basis(N,fock) #target state"
   ]
  },
  {
   "cell_type": "code",
   "execution_count": 4,
   "metadata": {},
   "outputs": [],
   "source": [
    "#the optimization options\n",
    "synth_params = {\n",
    "    'gateset' : SNAP_gate_set,\n",
    "    'N_blocks':6,\n",
    "    'N_multistart' : 1000, #Batch size (number of circuit optimizations to run in parallel)\n",
    "    'epochs' : 100, #number of epochs before termination\n",
    "    'epoch_size' : 10, #number of adam steps per epoch\n",
    "    'learning_rate' : 0.01, #adam learning rate\n",
    "    'term_fid' : 0.995, #terminal fidelitiy\n",
    "    'dfid_stop' : 1e-6, #stop if dfid between two epochs is smaller than this number\n",
    "    'beta_scale' : 3.0, #maximum |beta| for random initialization\n",
    "    'initial_states' : [qt.basis(N,0)], #qubit tensor oscillator, start in |g> |0>\n",
    "    'target_states' : [psi_t], #end in |e> |target>.\n",
    "    'name' : 'SNAP Fock %d' % fock, #name for printing and saving\n",
    "    'filename' : None, #if no filename specified, results will be saved in this folder under 'name.h5'\n",
    "}\n",
    "gatesynth = GateSynthesizer(**synth_params)"
   ]
  },
  {
   "cell_type": "code",
   "execution_count": 5,
   "metadata": {},
   "outputs": [
    {
     "name": "stdout",
     "output_type": "stream",
     "text": [
      "filename: SNAP Fock 4.h5\n",
      "\n",
      "Best circuit parameters found:\n",
      "betastf.Tensor(\n",
      "[-0.49573-2.32275j -0.1262 +0.64122j  2.74676+0.1775j  -2.18921-0.72849j\n",
      "  0.0519 +0.70454j -0.06927-0.78955j], shape=(6,), dtype=complex64)\n",
      "thetastf.Tensor(\n",
      "[[ 2.93468  1.89845  1.50543  2.73436  2.72077 -1.63621 -1.71612 -0.45325\n",
      "   3.03798 -2.40076]\n",
      " [-0.05577 -1.44144  1.93759  0.01158  1.54219 -2.84614 -0.40083 -2.91761\n",
      "   2.57775 -0.89728]\n",
      " [ 0.06393  2.11106  1.88218  1.32907 -2.2634  -1.52431 -0.57317 -2.02928\n",
      "  -2.86327  0.06485]\n",
      " [ 0.27285  0.0012   1.00303  1.88743 -2.20055  1.29821 -1.14954 -0.86878\n",
      "  -2.13344  2.65105]\n",
      " [-0.18015  2.21831  1.68049 -0.02724  0.20559 -0.00563  1.06114 -1.40491\n",
      "   0.71707  0.23668]\n",
      " [ 0.39328  1.46564 -2.57492  1.17359 -0.59531  0.97441 -1.73528 -1.02749\n",
      "  -2.18867 -1.3912 ]], shape=(6, 10), dtype=float32)\n",
      "\n",
      "\n"
     ]
    }
   ],
   "source": [
    "#create optimization object. \n",
    "#initial params will be randomized upon creation\n",
    "opt = AdamOptimizer(gatesynth)\n",
    "\n",
    "#print optimization info. this lives in gatesynth, since we eventually want to fully abstract away the optimizer\n",
    "gatesynth.print_info()"
   ]
  },
  {
   "cell_type": "code",
   "execution_count": 6,
   "metadata": {},
   "outputs": [
    {
     "name": "stdout",
     "output_type": "stream",
     "text": [
      "Start time: 2022-02-17 16:03:59\n",
      " Epoch: 5 / 100 Max Fid: 0.997083 Avg Fid: 0.658514 Max dFid: 0.252935 Avg dFid: 0.086105 Elapsed time: 0:00:01.935998 Remaing time: 0:00:36.783966\n",
      "\n",
      " Optimization stopped. Term fidelity reached.\n",
      "\n",
      "filename: SNAP Fock 4.h5\n",
      "\n",
      "Best circuit parameters found:\n",
      "betastf.Tensor(\n",
      "[ 0.43181-0.12439j  1.40035-0.04461j -0.25261+0.41103j -0.2698 +0.17838j\n",
      "  0.00925+0.00958j -0.40497-0.15609j], shape=(6,), dtype=complex64)\n",
      "thetastf.Tensor(\n",
      "[[-0.39269 -2.94413 -1.74506 -0.10756  1.73452  3.14069 -2.67062 -0.46888\n",
      "  -0.88737 -1.11557]\n",
      " [-0.53557 -0.45392  2.34284 -0.22747 -2.94304  1.6987   1.48831  0.04544\n",
      "   1.56422  1.9661 ]\n",
      " [-2.45539  1.26105 -1.69255  1.39697 -1.02213  0.25015 -1.12272  1.91541\n",
      "   0.63636  2.59777]\n",
      " [-2.15979  2.91085  2.67096  0.93215  2.41757  1.34316 -3.11571 -0.49621\n",
      "   0.02258 -0.8836 ]\n",
      " [-2.87618  1.2336   1.60462  2.63829  0.41146  0.91004 -1.55743 -2.0037\n",
      "  -0.9197   2.23323]\n",
      " [ 2.53773  2.26331  1.43097  2.78892 -0.47886  3.00681  2.01226 -0.56404\n",
      "   1.9979  -2.49609]], shape=(6, 10), dtype=float32)\n",
      "\n",
      "\n",
      "all data saved as: SNAP Fock 4.h5\n",
      "termination reason: term_fid\n",
      "optimization timestamp (start time): 2022-02-17 16:03:59\n",
      "timestamp (end time): 2022-02-17 16:04:01\n",
      "elapsed time: 0:00:01.952499\n",
      "Time per epoch (epoch size = 10): 0:00:00.390500\n",
      "Time per Adam step (N_multistart = 1000): 0:00:00.003905\n",
      "\n",
      "============================================================\n",
      "\n"
     ]
    },
    {
     "data": {
      "text/plain": [
       "'2022-02-17 16:03:59'"
      ]
     },
     "execution_count": 6,
     "metadata": {},
     "output_type": "execute_result"
    }
   ],
   "source": [
    "#run optimizer.\n",
    "#note the optimizer can be stopped at any time by interrupting the python consle,\n",
    "#and the optimization results will still be saved and part of the opt object.\n",
    "#This allows you to stop the optimization whenever you want and still use the result.\n",
    "opt.optimize()"
   ]
  },
  {
   "cell_type": "code",
   "execution_count": 7,
   "metadata": {},
   "outputs": [
    {
     "name": "stdout",
     "output_type": "stream",
     "text": [
      "filename: SNAP Fock 4.h5\n",
      "\n",
      "Best circuit parameters found:\n",
      "betastf.Tensor(\n",
      "[ 0.43181-0.12439j  1.40035-0.04461j -0.25261+0.41103j -0.2698 +0.17838j\n",
      "  0.00925+0.00958j -0.40497-0.15609j], shape=(6,), dtype=complex64)\n",
      "thetastf.Tensor(\n",
      "[[-0.39269 -2.94413 -1.74506 -0.10756  1.73452  3.14069 -2.67062 -0.46888\n",
      "  -0.88737 -1.11557]\n",
      " [-0.53557 -0.45392  2.34284 -0.22747 -2.94304  1.6987   1.48831  0.04544\n",
      "   1.56422  1.9661 ]\n",
      " [-2.45539  1.26105 -1.69255  1.39697 -1.02213  0.25015 -1.12272  1.91541\n",
      "   0.63636  2.59777]\n",
      " [-2.15979  2.91085  2.67096  0.93215  2.41757  1.34316 -3.11571 -0.49621\n",
      "   0.02258 -0.8836 ]\n",
      " [-2.87618  1.2336   1.60462  2.63829  0.41146  0.91004 -1.55743 -2.0037\n",
      "  -0.9197   2.23323]\n",
      " [ 2.53773  2.26331  1.43097  2.78892 -0.47886  3.00681  2.01226 -0.56404\n",
      "   1.9979  -2.49609]], shape=(6, 10), dtype=float32)\n",
      "\n",
      "\n"
     ]
    }
   ],
   "source": [
    "#can print info, including the best circuit found.\n",
    "gatesynth.print_info() "
   ]
  },
  {
   "cell_type": "code",
   "execution_count": 8,
   "metadata": {},
   "outputs": [
    {
     "name": "stdout",
     "output_type": "stream",
     "text": [
      "0.9971835\n"
     ]
    }
   ],
   "source": [
    "print(gatesynth.best_fidelity())"
   ]
  },
  {
   "cell_type": "code",
   "execution_count": 9,
   "metadata": {},
   "outputs": [
    {
     "name": "stdout",
     "output_type": "stream",
     "text": [
      "{'betas': <tf.Tensor: shape=(6,), dtype=complex64, numpy=\n",
      "array([ 0.43180716-0.12439014j,  1.4003489 -0.04460944j,\n",
      "       -0.25261053+0.4110305j , -0.2698    +0.17837797j,\n",
      "        0.00925414+0.00958203j, -0.40497187-0.15608501j], dtype=complex64)>, 'thetas': <tf.Tensor: shape=(6, 10), dtype=float32, numpy=\n",
      "array([[-0.39269114, -2.9441268 , -1.7450646 , -0.1075635 ,  1.7345192 ,\n",
      "         3.140692  , -2.6706219 , -0.46888328, -0.8873651 , -1.1155713 ],\n",
      "       [-0.5355723 , -0.45391583,  2.342839  , -0.2274692 , -2.9430397 ,\n",
      "         1.6987035 ,  1.4883053 ,  0.04543924,  1.5642169 ,  1.9661019 ],\n",
      "       [-2.45539   ,  1.2610524 , -1.6925521 ,  1.3969672 , -1.0221283 ,\n",
      "         0.2501483 , -1.1227245 ,  1.9154088 ,  0.63635635,  2.597768  ],\n",
      "       [-2.159785  ,  2.9108508 ,  2.6709597 ,  0.9321463 ,  2.4175675 ,\n",
      "         1.3431599 , -3.1157053 , -0.49621153,  0.02257776, -0.88359594],\n",
      "       [-2.876178  ,  1.233598  ,  1.6046245 ,  2.6382868 ,  0.41146016,\n",
      "         0.9100363 , -1.557434  , -2.0036986 , -0.9196961 ,  2.2332323 ],\n",
      "       [ 2.537731  ,  2.2633069 ,  1.4309671 ,  2.788921  , -0.47886133,\n",
      "         3.0068104 ,  2.0122635 , -0.5640366 ,  1.9979022 , -2.4960914 ]],\n",
      "      dtype=float32)>}\n"
     ]
    }
   ],
   "source": [
    "#can also get the best circuit parameters directly, could save this to a .npz file.\n",
    "best_circuit =  gatesynth.best_circuit()\n",
    "betas = best_circuit['betas']\n",
    "thetas = best_circuit['thetas']\n",
    "print(best_circuit)"
   ]
  },
  {
   "cell_type": "code",
   "execution_count": null,
   "metadata": {},
   "outputs": [],
   "source": []
  }
 ],
 "metadata": {
  "interpreter": {
   "hash": "3e13ed3432761fc59a4a9b457fbf3f96074750791754ae943b7a2ec348e7309f"
  },
  "kernelspec": {
   "display_name": "Python 3 (ipykernel)",
   "language": "python",
   "name": "python3"
  },
  "language_info": {
   "codemirror_mode": {
    "name": "ipython",
    "version": 3
   },
   "file_extension": ".py",
   "mimetype": "text/x-python",
   "name": "python",
   "nbconvert_exporter": "python",
   "pygments_lexer": "ipython3",
   "version": "3.9.7"
  }
 },
 "nbformat": 4,
 "nbformat_minor": 4
}
