{
 "cells": [
  {
   "cell_type": "code",
   "execution_count": 27,
   "metadata": {},
   "outputs": [
    {
     "name": "stdout",
     "output_type": "stream",
     "text": [
      "The autoreload extension is already loaded. To reload it, use:\n",
      "  %reload_ext autoreload\n"
     ]
    }
   ],
   "source": [
    "%load_ext autoreload\n",
    "%autoreload 2\n",
    "%matplotlib inline\n",
    "%config InlineBackend.figure_format = 'retina'\n",
    "\n",
    "import numpy as np\n",
    "import qutip as qt \n",
    "from ECD_control.ECD_optimization.batch_optimizer_new import BatchOptimizer\n",
    "from ECD_control.gate_sets import ECDGateSet\n",
    "from ECD_control.ECD_optimization.GateSynthesizer import GateSynthesizer\n",
    "from ECD_control.ECD_optimization.optimization_analysis import OptimizationAnalysis, OptimizationSweepsAnalysis\n",
    "import matplotlib.pyplot as plt\n",
    "from tensorflow.python.client import device_lib\n",
    "# device_lib.list_local_devices()"
   ]
  },
  {
   "cell_type": "code",
   "execution_count": 28,
   "metadata": {},
   "outputs": [],
   "source": [
    "#Optimization of ECD Circuit parameters (betas, phis, and thetas)\n",
    "N = 40\n",
    "# We initialize the ECDGateSet here\n",
    "gate_set_params = {\n",
    "    'N_cav' : N,\n",
    "    'beta_scale' : 3.0, #maximum |beta| for random initialization  \n",
    "}\n",
    "ECD_gate_set = ECDGateSet(**gate_set_params)"
   ]
  },
  {
   "cell_type": "code",
   "execution_count": 29,
   "metadata": {},
   "outputs": [],
   "source": [
    "#The target oscillator state.\n",
    "fock = 1\n",
    "psi_t = qt.basis(N,fock) #target state"
   ]
  },
  {
   "cell_type": "code",
   "execution_count": 30,
   "metadata": {},
   "outputs": [],
   "source": [
    "#the optimization options\n",
    "synth_params = {\n",
    "    'gateset' : ECD_gate_set,\n",
    "    'N_blocks':6,\n",
    "    'N_multistart' : 100, #Batch size (number of circuit optimizations to run in parallel)\n",
    "    'epochs' : 100, #number of epochs before termination\n",
    "    'epoch_size' : 10, #number of adam steps per epoch\n",
    "    'learning_rate' : 0.01, #adam learning rate\n",
    "    'term_fid' : 0.995, #terminal fidelitiy\n",
    "    'dfid_stop' : 1e-6, #stop if dfid between two epochs is smaller than this number\n",
    "    'beta_scale' : 3.0, #maximum |beta| for random initialization\n",
    "    'initial_states' : [qt.tensor(qt.basis(2,0),qt.basis(N,0))], #qubit tensor oscillator, start in |g> |0>\n",
    "    'target_states' : [qt.tensor(qt.basis(2,1), psi_t)], #end in |e> |target>.\n",
    "    'name' : 'Fock %d' % fock, #name for printing and saving\n",
    "    'filename' : None, #if no filename specified, results will be saved in this folder under 'name.h5'\n",
    "}\n",
    "gatesynth = GateSynthesizer(**synth_params)"
   ]
  },
  {
   "cell_type": "code",
   "execution_count": 31,
   "metadata": {},
   "outputs": [
    {
     "name": "stdout",
     "output_type": "stream",
     "text": [
      "filename: Fock 1.h5\n",
      "\n",
      "Best circuit parameters found:\n",
      "betastf.Tensor(\n",
      "[ 1.09395-1.15969j  1.26394-2.44875j -0.02992+0.0056j  -1.04797+1.81618j\n",
      "  0.09939+1.32947j  0.63213-0.37139j], shape=(6,), dtype=complex64)\n",
      "phistf.Tensor([ 0.72704  1.83644 -2.33326  1.74216  2.17263 -0.87265], shape=(6,), dtype=float32)\n",
      "etastf.Tensor([ 0.14676  2.74993  0.70374 -0.25467 -0.3884   2.14855], shape=(6,), dtype=float32)\n",
      "thetastf.Tensor([-0.58772 -1.77552 -2.93049  0.69667  2.07901 -1.35963], shape=(6,), dtype=float32)\n",
      "\n",
      "\n"
     ]
    }
   ],
   "source": [
    "#create optimization object. \n",
    "#initial params will be randomized upon creation\n",
    "opt = BatchOptimizer(gatesynth)\n",
    "\n",
    "#print optimization info. this lives in gatesynth, since we eventually want to fully abstract away the optimizer\n",
    "gatesynth.print_info()"
   ]
  },
  {
   "cell_type": "code",
   "execution_count": 32,
   "metadata": {},
   "outputs": [
    {
     "name": "stdout",
     "output_type": "stream",
     "text": [
      "Start time: 2022-02-16 10:08:13\n",
      "\n",
      "\n",
      " Optimization stopped. Term fidelity reached.\n",
      "\n"
     ]
    },
    {
     "ename": "AttributeError",
     "evalue": "'BatchOptimizer' object has no attribute '_save_termination_reason'",
     "output_type": "error",
     "traceback": [
      "\u001b[1;31m---------------------------------------------------------------------------\u001b[0m",
      "\u001b[1;31mAttributeError\u001b[0m                            Traceback (most recent call last)",
      "\u001b[1;32m<ipython-input-32-70021c202be8>\u001b[0m in \u001b[0;36m<module>\u001b[1;34m\u001b[0m\n\u001b[0;32m      3\u001b[0m \u001b[1;31m#and the optimization results will still be saved and part of the opt object.\u001b[0m\u001b[1;33m\u001b[0m\u001b[1;33m\u001b[0m\u001b[1;33m\u001b[0m\u001b[0m\n\u001b[0;32m      4\u001b[0m \u001b[1;31m#This allows you to stop the optimization whenever you want and still use the result.\u001b[0m\u001b[1;33m\u001b[0m\u001b[1;33m\u001b[0m\u001b[1;33m\u001b[0m\u001b[0m\n\u001b[1;32m----> 5\u001b[1;33m \u001b[0mopt\u001b[0m\u001b[1;33m.\u001b[0m\u001b[0moptimize\u001b[0m\u001b[1;33m(\u001b[0m\u001b[1;33m)\u001b[0m\u001b[1;33m\u001b[0m\u001b[1;33m\u001b[0m\u001b[0m\n\u001b[0m",
      "\u001b[1;32mG:\\My Drive\\Projects\\ECD\\ECD_control\\ECD_control\\ECD_optimization\\batch_optimizer_new.py\u001b[0m in \u001b[0;36moptimize\u001b[1;34m(self)\u001b[0m\n\u001b[0;32m    119\u001b[0m                 \u001b[1;34m\"\\n\\nOptimization stopped.  Reached maximum number of epochs. Terminal fidelity not reached.\\n\"\u001b[0m\u001b[1;33m\u001b[0m\u001b[1;33m\u001b[0m\u001b[0m\n\u001b[0;32m    120\u001b[0m             )\n\u001b[1;32m--> 121\u001b[1;33m         \u001b[0mself\u001b[0m\u001b[1;33m.\u001b[0m\u001b[0m_save_termination_reason\u001b[0m\u001b[1;33m(\u001b[0m\u001b[0mtimestamp\u001b[0m\u001b[1;33m,\u001b[0m \u001b[0mtermination_reason\u001b[0m\u001b[1;33m)\u001b[0m\u001b[1;33m\u001b[0m\u001b[1;33m\u001b[0m\u001b[0m\n\u001b[0m\u001b[0;32m    122\u001b[0m         \u001b[0mtimestamp_end\u001b[0m \u001b[1;33m=\u001b[0m \u001b[0mdatetime\u001b[0m\u001b[1;33m.\u001b[0m\u001b[0mdatetime\u001b[0m\u001b[1;33m.\u001b[0m\u001b[0mnow\u001b[0m\u001b[1;33m(\u001b[0m\u001b[1;33m)\u001b[0m\u001b[1;33m.\u001b[0m\u001b[0mstrftime\u001b[0m\u001b[1;33m(\u001b[0m\u001b[0mTIMESTAMP_FORMAT\u001b[0m\u001b[1;33m)\u001b[0m\u001b[1;33m\u001b[0m\u001b[1;33m\u001b[0m\u001b[0m\n\u001b[0;32m    123\u001b[0m         \u001b[0melapsed_time_s\u001b[0m \u001b[1;33m=\u001b[0m \u001b[0mtime\u001b[0m\u001b[1;33m.\u001b[0m\u001b[0mtime\u001b[0m\u001b[1;33m(\u001b[0m\u001b[1;33m)\u001b[0m \u001b[1;33m-\u001b[0m \u001b[0mstart_time\u001b[0m\u001b[1;33m\u001b[0m\u001b[1;33m\u001b[0m\u001b[0m\n",
      "\u001b[1;31mAttributeError\u001b[0m: 'BatchOptimizer' object has no attribute '_save_termination_reason'"
     ]
    }
   ],
   "source": [
    "#run optimizer.\n",
    "#note the optimizer can be stopped at any time by interrupting the python consle,\n",
    "#and the optimization results will still be saved and part of the opt object.\n",
    "#This allows you to stop the optimization whenever you want and still use the result.\n",
    "opt.optimize()"
   ]
  },
  {
   "cell_type": "code",
   "execution_count": 33,
   "metadata": {},
   "outputs": [
    {
     "name": "stdout",
     "output_type": "stream",
     "text": [
      "filename: Fock 1.h5\n",
      "\n",
      "Best circuit parameters found:\n",
      "betastf.Tensor(\n",
      "[-1.17462-0.86936j -0.49395+0.57562j -0.79899+0.0522j   0.16476+0.29228j\n",
      " -0.19569-0.38825j  0.03831-0.18385j], shape=(6,), dtype=complex64)\n",
      "phistf.Tensor([-2.45867  1.31623  3.11642  1.03416  1.11155 -2.95249], shape=(6,), dtype=float32)\n",
      "etastf.Tensor([ 1.4824   2.50611  2.10898  1.06872  2.3669  -2.27538], shape=(6,), dtype=float32)\n",
      "thetastf.Tensor([-1.51928  1.41058 -2.41112 -1.96396  2.68694 -0.73564], shape=(6,), dtype=float32)\n",
      "\n",
      "\n"
     ]
    }
   ],
   "source": [
    "#can print info, including the best circuit found.\n",
    "gatesynth.print_info() "
   ]
  },
  {
   "cell_type": "code",
   "execution_count": 34,
   "metadata": {},
   "outputs": [
    {
     "name": "stdout",
     "output_type": "stream",
     "text": [
      "0.99766856\n"
     ]
    }
   ],
   "source": [
    "print(gatesynth.best_fidelity())"
   ]
  },
  {
   "cell_type": "code",
   "execution_count": 35,
   "metadata": {},
   "outputs": [
    {
     "name": "stdout",
     "output_type": "stream",
     "text": [
      "{'betas': <tf.Tensor: shape=(6,), dtype=complex64, numpy=\n",
      "array([-1.1746151 -0.8693623j , -0.49395102+0.5756166j ,\n",
      "       -0.79899365+0.05219852j,  0.16476296+0.29228175j,\n",
      "       -0.1956888 -0.38825154j,  0.03830615-0.18385214j], dtype=complex64)>, 'phis': <tf.Tensor: shape=(6,), dtype=float32, numpy=\n",
      "array([-2.4586654,  1.3162277,  3.1164181,  1.0341647,  1.1115539,\n",
      "       -2.9524856], dtype=float32)>, 'etas': <tf.Tensor: shape=(6,), dtype=float32, numpy=\n",
      "array([ 1.4823964,  2.5061128,  2.1089766,  1.0687244,  2.3668997,\n",
      "       -2.2753816], dtype=float32)>, 'thetas': <tf.Tensor: shape=(6,), dtype=float32, numpy=\n",
      "array([-1.5192764 ,  1.4105847 , -2.4111152 , -1.9639561 ,  2.6869357 ,\n",
      "       -0.73564196], dtype=float32)>}\n"
     ]
    }
   ],
   "source": [
    "#can also get the best circuit parameters directly, could save this to a .npz file.\n",
    "best_circuit =  gatesynth.best_circuit()\n",
    "betas = best_circuit['betas']\n",
    "phis = best_circuit['phis']\n",
    "thetas = best_circuit['thetas']\n",
    "print(best_circuit)"
   ]
  }
 ],
 "metadata": {
  "interpreter": {
   "hash": "3e13ed3432761fc59a4a9b457fbf3f96074750791754ae943b7a2ec348e7309f"
  },
  "kernelspec": {
   "display_name": "Python 3 (ipykernel)",
   "language": "python",
   "name": "python3"
  },
  "language_info": {
   "codemirror_mode": {
    "name": "ipython",
    "version": 3
   },
   "file_extension": ".py",
   "mimetype": "text/x-python",
   "name": "python",
   "nbconvert_exporter": "python",
   "pygments_lexer": "ipython3",
   "version": "3.9.5"
  }
 },
 "nbformat": 4,
 "nbformat_minor": 4
}
